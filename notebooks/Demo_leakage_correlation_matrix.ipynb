{
 "cells": [
  {
   "cell_type": "markdown",
   "metadata": {},
   "source": [
    "# Simple demo of generating a correlation matrix for a given leak scenario"
   ]
  },
  {
   "cell_type": "code",
   "execution_count": 1,
   "metadata": {},
   "outputs": [],
   "source": [
    "import json\n",
    "import time\n",
    "import pandas as pd\n",
    "import datetime\n",
    "from sklearn import preprocessing\n",
    "\n",
    "import sys  \n",
    "sys.path.insert(0, './../utils-py')\n",
    "from EPANETUtils import EPANETUtils\n",
    "import CompareUtils\n",
    "\n",
    "file = \"./../data/RaduNegru14January2021_2.2.inp\"\n",
    "\n",
    "# Setting the nodes that interest us\n",
    "sensors = [\"SenzorComunarzi-NatVech\", \"SenzorCernauti-Sebesului\", \"SenzorChisinau-Titulescu\", \"SenzorComunarzi-castanului\"]\n",
    "reservoirs_and_closest_junctions = [(\"GA-Braila\", \"751-B\"), (\"Apollo\", \"748-B\"), \n",
    "                                    (\"RaduNegruMare\", \"763-B\"), (\"RaduNegru2\", \"760-B\")]\n",
    "\n",
    "for reservoir, junction in reservoirs_and_closest_junctions:\n",
    "    sensors.append(junction)\n",
    "    \n",
    "\n",
    "epanet_util_instance_2 = EPANETUtils(file, \"PDD\")"
   ]
  },
  {
   "cell_type": "code",
   "execution_count": null,
   "metadata": {},
   "outputs": [
    {
     "name": "stdout",
     "output_type": "stream",
     "text": [
      "Generating leaks.....\n"
     ]
    }
   ],
   "source": [
    "print(\"Generating leaks.....\")\n",
    "leakage_arr = [0.006]\n",
    "dict_leaks2, dict_diff2 = epanet_util_instance_2.run_leakage_scenario(leaks_arr=leakage_arr, generate_diff_dict=True, \n",
    "                                                                      retrieve_specific_nodes_arr=sensors)"
   ]
  },
  {
   "cell_type": "code",
   "execution_count": null,
   "metadata": {},
   "outputs": [],
   "source": [
    "correlation_matrix = CompareUtils.generate_leakage_correlation_matrix(dict_diff2, \"0.006m3/s - Leak\", sensors, normalize=True)\n",
    "correlation_matrix"
   ]
  },
  {
   "cell_type": "code",
   "execution_count": null,
   "metadata": {},
   "outputs": [],
   "source": [
    "correlation_matrix.nlargest(10, \"SenzorComunarzi-NatVech\")"
   ]
  },
  {
   "cell_type": "code",
   "execution_count": null,
   "metadata": {},
   "outputs": [],
   "source": []
  },
  {
   "cell_type": "code",
   "execution_count": null,
   "metadata": {},
   "outputs": [],
   "source": []
  },
  {
   "cell_type": "code",
   "execution_count": null,
   "metadata": {},
   "outputs": [],
   "source": []
  }
 ],
 "metadata": {
  "kernelspec": {
   "display_name": "Python 3",
   "language": "python",
   "name": "python3"
  },
  "language_info": {
   "codemirror_mode": {
    "name": "ipython",
    "version": 3
   },
   "file_extension": ".py",
   "mimetype": "text/x-python",
   "name": "python",
   "nbconvert_exporter": "python",
   "pygments_lexer": "ipython3",
   "version": "3.8.3"
  }
 },
 "nbformat": 4,
 "nbformat_minor": 4
}
