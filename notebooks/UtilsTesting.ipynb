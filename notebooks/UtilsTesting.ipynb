{
 "cells": [
  {
   "cell_type": "markdown",
   "metadata": {},
   "source": [
    "## Demo\n",
    "Notebook to present the functionality of the EPANETUtils class made by me."
   ]
  },
  {
   "cell_type": "code",
   "execution_count": 1,
   "metadata": {},
   "outputs": [],
   "source": [
    "import json\n",
    "import time\n",
    "import pandas as pd\n",
    "\n",
    "import sys  \n",
    "sys.path.insert(0, './../utils-py')\n",
    "from EPANETUtils import EPANETUtils"
   ]
  },
  {
   "cell_type": "code",
   "execution_count": 2,
   "metadata": {},
   "outputs": [],
   "source": [
    "file = \"./../data/RaduNegru11Jan2021WithDemands_2.2.inp\""
   ]
  },
  {
   "cell_type": "code",
   "execution_count": 3,
   "metadata": {},
   "outputs": [
    {
     "name": "stdout",
     "output_type": "stream",
     "text": [
      "Starting simulation.....\n",
      "Generating leaks.....\n",
      "To calculate it took: 82.92109394073486s\n",
      "Leaks to file it took: 103.73440098762512s\n",
      "Total duration: 125.32364749908447s\n"
     ]
    }
   ],
   "source": [
    "print(\"Starting simulation.....\")\n",
    "now = time.time()\n",
    "epanet_util_instance_new = EPANETUtils(file, \"PDD\")\n",
    "\n",
    "print(\"Generating leaks.....\")\n",
    "dict_leaks, dict_diff = epanet_util_instance_new.run_leakage_scenario(leaks_arr=[0.006, 0.012], generate_diff_dict=True)\n",
    "\n",
    "print(\"To calculate it took: {}s\".format(time.time() - now))\n",
    "\n",
    "# Files are 130MB smaller if there is no indent\n",
    "with open(\"1-leaks-dict.json\", 'w') as fp:\n",
    "    json.dump(dict_leaks, fp, indent=4)\n",
    "\n",
    "print(\"Leaks to file it took: {}s\".format(time.time() - now))\n",
    "\n",
    "with open(\"1-diff-dict.json\", 'w') as fp:\n",
    "    json.dump(dict_diff, fp, indent=4)\n",
    "\n",
    "later = time.time()\n",
    "print(\"Total duration: {}s\".format(later - now))"
   ]
  },
  {
   "cell_type": "code",
   "execution_count": null,
   "metadata": {},
   "outputs": [],
   "source": []
  },
  {
   "cell_type": "code",
   "execution_count": null,
   "metadata": {},
   "outputs": [],
   "source": []
  },
  {
   "cell_type": "code",
   "execution_count": null,
   "metadata": {},
   "outputs": [],
   "source": []
  },
  {
   "cell_type": "code",
   "execution_count": null,
   "metadata": {},
   "outputs": [],
   "source": []
  }
 ],
 "metadata": {
  "kernelspec": {
   "display_name": "Python 3",
   "language": "python",
   "name": "python3"
  },
  "language_info": {
   "codemirror_mode": {
    "name": "ipython",
    "version": 3
   },
   "file_extension": ".py",
   "mimetype": "text/x-python",
   "name": "python",
   "nbconvert_exporter": "python",
   "pygments_lexer": "ipython3",
   "version": "3.8.3"
  }
 },
 "nbformat": 4,
 "nbformat_minor": 4
}
