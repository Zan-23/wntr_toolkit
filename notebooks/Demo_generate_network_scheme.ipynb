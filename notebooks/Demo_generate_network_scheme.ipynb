{
 "cells": [
  {
   "cell_type": "code",
   "execution_count": null,
   "metadata": {},
   "outputs": [],
   "source": [
    "# Drawing the net"
   ]
  },
  {
   "cell_type": "code",
   "execution_count": 1,
   "metadata": {},
   "outputs": [],
   "source": [
    "import json\n",
    "import time\n",
    "import pandas as pd\n",
    "import wntr\n",
    "\n",
    "import sys  \n",
    "sys.path.insert(0, './../utils-py')\n",
    "from EPANETUtils import EPANETUtils"
   ]
  },
  {
   "cell_type": "code",
   "execution_count": 2,
   "metadata": {},
   "outputs": [],
   "source": [
    "# file = \"./../data/RaduNegru11Jan2021WithDemands_2.2.inp\"\n",
    "file = \"./../data/RaduNegru14January2021_2.2.inp\""
   ]
  },
  {
   "cell_type": "code",
   "execution_count": 3,
   "metadata": {},
   "outputs": [],
   "source": [
    "now = time.time()\n",
    "epanet_util_instance_new = EPANETUtils(file, \"PDD\")\n",
    "temp_dict = epanet_util_instance_new.generate_network_json(file_name=\"water_network.json\")"
   ]
  },
  {
   "cell_type": "code",
   "execution_count": 4,
   "metadata": {},
   "outputs": [],
   "source": [
    "# testing something out\n",
    "model_wn = epanet_util_instance_new.get_original_water_network_model()\n",
    "sim = wntr.sim.EpanetSimulator(model_wn)\n",
    "results = sim.run_sim()\n",
    "pressure = results.node['pressure']\n",
    "pressure_at_10hr = pressure.loc[36000,:]\n",
    "\n",
    "\"\"\"nodes, edges = wntr.graphics.plot_network(model_wn, node_attribute=pressure_at_10hr,   \n",
    "                                          node_range=[30,55], node_colorbar_label='Pressure (m)')\"\"\"\n",
    "\n",
    "wntr.graphics.plot_interactive_network(model_wn, node_attribute=pressure_at_10hr, figsize=[1800, 1000])"
   ]
  },
  {
   "cell_type": "code",
   "execution_count": null,
   "metadata": {},
   "outputs": [],
   "source": [
    "junction = [\"Jonctiune-3566\", \"291-A\", \"263-A\", \"291-B\", \"263-B\", \"Jonctiune-2967\", \"Jonctiune-2776\", \"290-A\", \"Jonctiune-3974\",\n",
    "           \"Jonctiune-2194\", \"290-B\", \"748-B\", \"Jonctiune-2195\", \"Jonctiune-2968\", \"748-A\", \"Jonctiune-2777\", \"Apollo\"]\n",
    "\n",
    "temp_df = pd.DataFrame().from_dict(temp_dict)\n",
    "temp_df"
   ]
  },
  {
   "cell_type": "code",
   "execution_count": null,
   "metadata": {},
   "outputs": [],
   "source": [
    "temp_df[junction]"
   ]
  },
  {
   "cell_type": "code",
   "execution_count": null,
   "metadata": {},
   "outputs": [],
   "source": []
  }
 ],
 "metadata": {
  "kernelspec": {
   "display_name": "Python 3",
   "language": "python",
   "name": "python3"
  },
  "language_info": {
   "codemirror_mode": {
    "name": "ipython",
    "version": 3
   },
   "file_extension": ".py",
   "mimetype": "text/x-python",
   "name": "python",
   "nbconvert_exporter": "python",
   "pygments_lexer": "ipython3",
   "version": "3.8.3"
  }
 },
 "nbformat": 4,
 "nbformat_minor": 4
}
