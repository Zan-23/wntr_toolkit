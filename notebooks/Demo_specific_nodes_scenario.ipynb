{
 "cells": [
  {
   "cell_type": "markdown",
   "metadata": {},
   "source": [
    "## Demo\n",
    "Notebook to present the functionality of the EPANETUtils class made by me."
   ]
  },
  {
   "cell_type": "code",
   "execution_count": null,
   "metadata": {},
   "outputs": [],
   "source": [
    "import json\n",
    "import time\n",
    "import pandas as pd\n",
    "\n",
    "import sys  \n",
    "sys.path.insert(0, './../utils-py')\n",
    "from EPANETUtils import EPANETUtils"
   ]
  },
  {
   "cell_type": "code",
   "execution_count": null,
   "metadata": {},
   "outputs": [],
   "source": [
    "file = \"./../data/RaduNegru11Jan2021WithDemands_2.2.inp\"\n",
    "sensors = [\"SenzorComunarzi-NatVech\", \"SenzorCernauti-Sebesului\", \"SenzorChisinau-Titulescu\", \"SenzorComunarzi-castanului\"]\n",
    "reservoirs_and_closest_junctions = [(\"GA-Braila\", \"751-B\"), (\"Apollo\", \"748-B\"), \n",
    "                                    (\"RaduNegruMare\", \"763-B\"), (\"RaduNegru2\", \"760-B\")]\n",
    "for reservoir, junction in reservoirs_and_closest_junctions:\n",
    "    sensors.append(junction)\n",
    "    \n",
    "display(sensors)"
   ]
  },
  {
   "cell_type": "code",
   "execution_count": null,
   "metadata": {},
   "outputs": [],
   "source": [
    "print(\"Starting simulation.....\")\n",
    "now = time.time()\n",
    "epanet_util_instance_2 = EPANETUtils(file, \"PDD\")\n",
    "\n",
    "print(\"Generating leaks.....\")\n",
    "leakage_arr = [0.0, 0.003, 0.006, 0.012]\n",
    "dict_leaks2, dict_diff2 = epanet_util_instance_2.run_leakage_scenario(leaks_arr=leakage_arr, generate_diff_dict=True, \n",
    "                                                                      retrieve_specific_nodes_arr=sensors)\n",
    "\n",
    "with open(\"1-leaks-dict-selected.json\", 'w') as fp:\n",
    "    json.dump(dict_leaks2, fp, indent=4) # \n",
    "print(\"To calculate it took: {}s\".format(time.time() - now))\n",
    "\n",
    "later = time.time()\n",
    "print(\"Total duration: {}s\".format(later - now))"
   ]
  },
  {
   "cell_type": "code",
   "execution_count": null,
   "metadata": {},
   "outputs": [],
   "source": [
    "# TODO calibrate data to pressures\n",
    "print(\"Starting simulation.....\")\n",
    "now = time.time()\n",
    "epanet_util_instance_1 = EPANETUtils(file, \"PDD\")\n",
    "\n",
    "print(\"Generating leaks.....\")\n",
    "dict_leaks1, dict_diff1 = epanet_util_instance_1.run_leakage_scenario(leaks_arr=[0.006, 0.012], generate_diff_dict=True)\n",
    "\n",
    "with open(\"1-leaks-dict-all.json\", 'w') as fp:\n",
    "    json.dump(dict_leaks1, fp, indent=4)\n",
    "print(\"To calculate it took: {}s\".format(time.time() - now))\n",
    "\n",
    "later = time.time()\n",
    "print(\"Total duration: {}s\".format(later - now))"
   ]
  },
  {
   "cell_type": "code",
   "execution_count": null,
   "metadata": {},
   "outputs": [],
   "source": [
    "\"\"\"# Files are 130MB smaller if there is no indent\n",
    "with open(\"1-leaks-dict.json\", 'w') as fp:\n",
    "    json.dump(dict_leaks, fp, indent=4)\n",
    "\n",
    "print(\"Leaks to file it took: {}s\".format(time.time() - now))\n",
    "\n",
    "with open(\"1-diff-dict.json\", 'w') as fp:\n",
    "    json.dump(dict_diff, fp, indent=4)\"\"\";"
   ]
  },
  {
   "cell_type": "code",
   "execution_count": null,
   "metadata": {},
   "outputs": [],
   "source": []
  },
  {
   "cell_type": "code",
   "execution_count": null,
   "metadata": {},
   "outputs": [],
   "source": []
  },
  {
   "cell_type": "code",
   "execution_count": null,
   "metadata": {},
   "outputs": [],
   "source": []
  }
 ],
 "metadata": {
  "kernelspec": {
   "display_name": "Python 3",
   "language": "python",
   "name": "python3"
  },
  "language_info": {
   "codemirror_mode": {
    "name": "ipython",
    "version": 3
   },
   "file_extension": ".py",
   "mimetype": "text/x-python",
   "name": "python",
   "nbconvert_exporter": "python",
   "pygments_lexer": "ipython3",
   "version": "3.8.3"
  }
 },
 "nbformat": 4,
 "nbformat_minor": 4
}
