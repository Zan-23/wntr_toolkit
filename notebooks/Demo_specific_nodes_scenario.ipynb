{
 "cells": [
  {
   "cell_type": "markdown",
   "metadata": {},
   "source": [
    "## Demo\n",
    "Notebook to present the functionality of the EPANETUtils class made by me."
   ]
  },
  {
   "cell_type": "code",
   "execution_count": 1,
   "metadata": {},
   "outputs": [],
   "source": [
    "import json\n",
    "import time\n",
    "import pandas as pd\n",
    "import datetime\n",
    "\n",
    "import sys  \n",
    "sys.path.insert(0, './../utils-py')\n",
    "from EPANETUtils import EPANETUtils\n",
    "import CompareUtils"
   ]
  },
  {
   "cell_type": "code",
   "execution_count": 2,
   "metadata": {},
   "outputs": [],
   "source": [
    "file = \"./../data/RaduNegru12April2021_2.2.inp\"\n",
    "\n",
    "# Setting the nodes that interest us\n",
    "sensors = [\"SenzorComunarzi-NatVech\", \"SenzorCernauti-Sebesului\", \"SenzorChisinau-Titulescu\", \"SenzorComunarzi-castanului\"]\n",
    "reservoirs_and_closest_junctions = [(\"GA-Braila\", \"751-B\"), (\"Apollo\", \"748-B\"), \n",
    "                                    (\"RaduNegruMare\", \"763-B\"), (\"RaduNegru2\", \"760-B\")]\n",
    "for reservoir, junction in reservoirs_and_closest_junctions:\n",
    "    sensors.append(junction)\n",
    "    \n",
    "\n",
    "epanet_util_instance_2 = EPANETUtils(file, \"PDD\")"
   ]
  },
  {
   "cell_type": "markdown",
   "metadata": {},
   "source": [
    "### Comparing real data with simulated "
   ]
  },
  {
   "cell_type": "code",
   "execution_count": 3,
   "metadata": {},
   "outputs": [
    {
     "data": {
      "text/plain": [
       "00:00:00    14.517897\n",
       "01:00:00    14.558394\n",
       "02:00:00    14.570760\n",
       "03:00:00    14.572337\n",
       "04:00:00    14.573099\n",
       "05:00:00    14.575253\n",
       "06:00:00    14.565536\n",
       "07:00:00    14.524527\n",
       "08:00:00    14.401075\n",
       "09:00:00    14.282032\n",
       "10:00:00    14.275187\n",
       "11:00:00    14.349558\n",
       "12:00:00    14.387352\n",
       "13:00:00    14.444325\n",
       "14:00:00    14.434622\n",
       "15:00:00    14.458322\n",
       "16:00:00    14.492256\n",
       "17:00:00    14.475909\n",
       "18:00:00    14.446707\n",
       "19:00:00    14.414341\n",
       "20:00:00    14.358551\n",
       "21:00:00    14.367382\n",
       "22:00:00    14.346522\n",
       "23:00:00    14.403765\n",
       "24:00:00    14.517899\n",
       "Name: SenzorComunarzi-NatVech, dtype: float32"
      ]
     },
     "execution_count": 3,
     "metadata": {},
     "output_type": "execute_result"
    }
   ],
   "source": [
    "simulated_data = epanet_util_instance_2.generate_pressures_at_nodes()[sensors]\n",
    "\n",
    "hours = []\n",
    "for hour in list(simulated_data.index):\n",
    "    temp_str = \"\"\n",
    "    if hour < 36000:  # 10 * 3600 after 10 hours\n",
    "        temp_str += \"0\"\n",
    "    temp_str += str(int(hour / 3600))\n",
    "    hours.append(temp_str + \":00:00\")\n",
    "    \n",
    "simulated_data.index = hours\n",
    "simulated_data[\"SenzorComunarzi-NatVech\"]"
   ]
  },
  {
   "cell_type": "code",
   "execution_count": 4,
   "metadata": {},
   "outputs": [
    {
     "data": {
      "text/plain": [
       "{'C1 Pres (m)': {Timedelta('0 days 00:00:00'): 18.8,\n",
       "  Timedelta('0 days 01:00:00'): 18.825,\n",
       "  Timedelta('0 days 02:00:00'): 18.875,\n",
       "  Timedelta('0 days 03:00:00'): 18.9,\n",
       "  Timedelta('0 days 04:00:00'): 18.549999999999997,\n",
       "  Timedelta('0 days 05:00:00'): 19.6,\n",
       "  Timedelta('0 days 06:00:00'): 19.525,\n",
       "  Timedelta('0 days 07:00:00'): 18.474999999999998,\n",
       "  Timedelta('0 days 08:00:00'): 18.174999999999997,\n",
       "  Timedelta('0 days 09:00:00'): 18.025,\n",
       "  Timedelta('0 days 10:00:00'): 18.225,\n",
       "  Timedelta('0 days 11:00:00'): 18.375,\n",
       "  Timedelta('0 days 12:00:00'): 18.35,\n",
       "  Timedelta('0 days 13:00:00'): 18.275,\n",
       "  Timedelta('0 days 14:00:00'): 18.525,\n",
       "  Timedelta('0 days 15:00:00'): 18.424999999999997,\n",
       "  Timedelta('0 days 16:00:00'): 18.0,\n",
       "  Timedelta('0 days 17:00:00'): 17.825,\n",
       "  Timedelta('0 days 23:00:00'): 18.5}}"
      ]
     },
     "execution_count": 4,
     "metadata": {},
     "output_type": "execute_result"
    }
   ],
   "source": [
    "file_names_arr = [\"2020-10-23-882360011565773_pressure.csv\", \"2020-10-23-882360011565772_pressure.csv\",\n",
    "                 \"2020-10-23-882360011565771_pressure.csv\", \"2020-10-23-882360011565770_pressure.csv\"]\n",
    "dict_of_data = CompareUtils.compare_real_with_simulated_data(file_names_arr, source_dir=\"../data/braila_normal_sensors/\")\n",
    "\n",
    "# 8 static comparisong\n",
    "dict_of_data[\"2020-10-23-882360011565773_pressure.csv\"].to_dict()"
   ]
  },
  {
   "cell_type": "markdown",
   "metadata": {},
   "source": [
    "### Simulating leaks"
   ]
  },
  {
   "cell_type": "code",
   "execution_count": null,
   "metadata": {},
   "outputs": [],
   "source": []
  },
  {
   "cell_type": "code",
   "execution_count": 5,
   "metadata": {},
   "outputs": [
    {
     "name": "stdout",
     "output_type": "stream",
     "text": [
      "Starting simulation.....\n",
      "Generating leaks.....\n"
     ]
    },
    {
     "ename": "EpanetException",
     "evalue": "EPANET Error 223",
     "output_type": "error",
     "traceback": [
      "\u001b[1;31m---------------------------------------------------------------------------\u001b[0m",
      "\u001b[1;31mEpanetException\u001b[0m                           Traceback (most recent call last)",
      "\u001b[1;32m<ipython-input-5-955d0ada813f>\u001b[0m in \u001b[0;36m<module>\u001b[1;34m\u001b[0m\n\u001b[0;32m      4\u001b[0m \u001b[0mprint\u001b[0m\u001b[1;33m(\u001b[0m\u001b[1;34m\"Generating leaks.....\"\u001b[0m\u001b[1;33m)\u001b[0m\u001b[1;33m\u001b[0m\u001b[1;33m\u001b[0m\u001b[0m\n\u001b[0;32m      5\u001b[0m \u001b[0mleakage_arr\u001b[0m \u001b[1;33m=\u001b[0m \u001b[1;33m[\u001b[0m\u001b[1;36m0.003\u001b[0m\u001b[1;33m]\u001b[0m\u001b[1;33m\u001b[0m\u001b[1;33m\u001b[0m\u001b[0m\n\u001b[1;32m----> 6\u001b[1;33m dict_leaks2, dict_diff2 = epanet_util_instance_2.run_leakage_scenario(leaks_arr=leakage_arr, generate_diff_dict=True, \n\u001b[0m\u001b[0;32m      7\u001b[0m                                                                       retrieve_specific_nodes_arr=sensors)\n\u001b[0;32m      8\u001b[0m \u001b[1;33m\u001b[0m\u001b[0m\n",
      "\u001b[1;32m~\\Desktop\\IJS\\IJS_3_letnik\\wntr_toolkit\\utils-py\\EPANETUtils.py\u001b[0m in \u001b[0;36mrun_leakage_scenario\u001b[1;34m(self, leaks_arr, generate_diff_dict, retrieve_specific_nodes_arr)\u001b[0m\n\u001b[0;32m    311\u001b[0m             \u001b[0mnode_leak_nodes_dict\u001b[0m\u001b[1;33m[\u001b[0m\u001b[0mnode\u001b[0m\u001b[1;33m]\u001b[0m \u001b[1;33m=\u001b[0m \u001b[0mdict\u001b[0m\u001b[1;33m(\u001b[0m\u001b[1;33m)\u001b[0m\u001b[1;33m\u001b[0m\u001b[1;33m\u001b[0m\u001b[0m\n\u001b[0;32m    312\u001b[0m             \u001b[1;32mfor\u001b[0m \u001b[0mleak\u001b[0m\u001b[1;33m,\u001b[0m \u001b[0mleak_name\u001b[0m \u001b[1;32min\u001b[0m \u001b[0mzip\u001b[0m\u001b[1;33m(\u001b[0m\u001b[0mleaks_arr\u001b[0m\u001b[1;33m,\u001b[0m \u001b[0mleak_names\u001b[0m\u001b[1;33m)\u001b[0m\u001b[1;33m:\u001b[0m\u001b[1;33m\u001b[0m\u001b[1;33m\u001b[0m\u001b[0m\n\u001b[1;32m--> 313\u001b[1;33m                 \u001b[0mnode_leak_nodes_dict\u001b[0m\u001b[1;33m[\u001b[0m\u001b[0mnode\u001b[0m\u001b[1;33m]\u001b[0m\u001b[1;33m[\u001b[0m\u001b[0mleak_name\u001b[0m\u001b[1;33m]\u001b[0m \u001b[1;33m=\u001b[0m \u001b[0mself\u001b[0m\u001b[1;33m.\u001b[0m\u001b[0madd_leakage_on_node_and_run_simulation\u001b[0m\u001b[1;33m(\u001b[0m\u001b[0mnode\u001b[0m\u001b[1;33m,\u001b[0m \u001b[0mleak\u001b[0m\u001b[1;33m)\u001b[0m\u001b[1;33m.\u001b[0m\u001b[0mto_dict\u001b[0m\u001b[1;33m(\u001b[0m\u001b[1;33m)\u001b[0m\u001b[1;33m\u001b[0m\u001b[1;33m\u001b[0m\u001b[0m\n\u001b[0m\u001b[0;32m    314\u001b[0m \u001b[1;33m\u001b[0m\u001b[0m\n\u001b[0;32m    315\u001b[0m         \u001b[1;32mif\u001b[0m \u001b[0mgenerate_diff_dict\u001b[0m\u001b[1;33m:\u001b[0m\u001b[1;33m\u001b[0m\u001b[1;33m\u001b[0m\u001b[0m\n",
      "\u001b[1;32m~\\Desktop\\IJS\\IJS_3_letnik\\wntr_toolkit\\utils-py\\EPANETUtils.py\u001b[0m in \u001b[0;36madd_leakage_on_node_and_run_simulation\u001b[1;34m(self, node, leak_to_simulate, water_network_model)\u001b[0m\n\u001b[0;32m    271\u001b[0m         \u001b[0mwater_network_model\u001b[0m\u001b[1;33m.\u001b[0m\u001b[0mget_node\u001b[0m\u001b[1;33m(\u001b[0m\u001b[0mnode\u001b[0m\u001b[1;33m)\u001b[0m\u001b[1;33m.\u001b[0m\u001b[0madd_demand\u001b[0m\u001b[1;33m(\u001b[0m\u001b[0mbase\u001b[0m\u001b[1;33m=\u001b[0m\u001b[1;36m1\u001b[0m\u001b[1;33m,\u001b[0m \u001b[0mpattern_name\u001b[0m\u001b[1;33m=\u001b[0m\u001b[0mself\u001b[0m\u001b[1;33m.\u001b[0m\u001b[0mLEAKED_PATTERN\u001b[0m\u001b[1;33m)\u001b[0m\u001b[1;33m\u001b[0m\u001b[1;33m\u001b[0m\u001b[0m\n\u001b[0;32m    272\u001b[0m \u001b[1;33m\u001b[0m\u001b[0m\n\u001b[1;32m--> 273\u001b[1;33m         \u001b[0msimulation_results\u001b[0m \u001b[1;33m=\u001b[0m \u001b[0mself\u001b[0m\u001b[1;33m.\u001b[0m\u001b[0mrun_simulation\u001b[0m\u001b[1;33m(\u001b[0m\u001b[0mwater_network_model\u001b[0m\u001b[1;33m=\u001b[0m\u001b[0mwater_network_model\u001b[0m\u001b[1;33m)\u001b[0m\u001b[1;33m\u001b[0m\u001b[1;33m\u001b[0m\u001b[0m\n\u001b[0m\u001b[0;32m    274\u001b[0m         \u001b[0mpressure_df\u001b[0m \u001b[1;33m=\u001b[0m \u001b[0msimulation_results\u001b[0m\u001b[1;33m.\u001b[0m\u001b[0mnode\u001b[0m\u001b[1;33m[\u001b[0m\u001b[1;34m\"pressure\"\u001b[0m\u001b[1;33m]\u001b[0m\u001b[1;33m.\u001b[0m\u001b[0mrename_axis\u001b[0m\u001b[1;33m(\u001b[0m\u001b[1;34mf\"Node_ {node}, {leak_to_simulate:.4f} m3/s\"\u001b[0m\u001b[1;33m,\u001b[0m \u001b[0maxis\u001b[0m\u001b[1;33m=\u001b[0m\u001b[1;36m1\u001b[0m\u001b[1;33m)\u001b[0m\u001b[1;33m\u001b[0m\u001b[1;33m\u001b[0m\u001b[0m\n\u001b[0;32m    275\u001b[0m \u001b[1;33m\u001b[0m\u001b[0m\n",
      "\u001b[1;32m~\\Desktop\\IJS\\IJS_3_letnik\\wntr_toolkit\\utils-py\\EPANETUtils.py\u001b[0m in \u001b[0;36mrun_simulation\u001b[1;34m(self, water_network_model)\u001b[0m\n\u001b[0;32m     71\u001b[0m \u001b[1;33m\u001b[0m\u001b[0m\n\u001b[0;32m     72\u001b[0m         \u001b[0msim\u001b[0m \u001b[1;33m=\u001b[0m \u001b[0mwntr\u001b[0m\u001b[1;33m.\u001b[0m\u001b[0msim\u001b[0m\u001b[1;33m.\u001b[0m\u001b[0mEpanetSimulator\u001b[0m\u001b[1;33m(\u001b[0m\u001b[0mwater_network_model\u001b[0m\u001b[1;33m)\u001b[0m\u001b[1;33m\u001b[0m\u001b[1;33m\u001b[0m\u001b[0m\n\u001b[1;32m---> 73\u001b[1;33m         \u001b[0msimulation_results\u001b[0m \u001b[1;33m=\u001b[0m \u001b[0msim\u001b[0m\u001b[1;33m.\u001b[0m\u001b[0mrun_sim\u001b[0m\u001b[1;33m(\u001b[0m\u001b[0mversion\u001b[0m\u001b[1;33m=\u001b[0m\u001b[1;36m2.2\u001b[0m\u001b[1;33m)\u001b[0m\u001b[1;33m\u001b[0m\u001b[1;33m\u001b[0m\u001b[0m\n\u001b[0m\u001b[0;32m     74\u001b[0m \u001b[1;33m\u001b[0m\u001b[0m\n\u001b[0;32m     75\u001b[0m         \u001b[1;32mreturn\u001b[0m \u001b[0msimulation_results\u001b[0m\u001b[1;33m\u001b[0m\u001b[1;33m\u001b[0m\u001b[0m\n",
      "\u001b[1;32mC:\\ProgramData\\Anaconda3\\lib\\site-packages\\wntr\\sim\\epanet.py\u001b[0m in \u001b[0;36mrun_sim\u001b[1;34m(self, file_prefix, save_hyd, use_hyd, hydfile, version)\u001b[0m\n\u001b[0;32m    104\u001b[0m             \u001b[0mlogger\u001b[0m\u001b[1;33m.\u001b[0m\u001b[0mdebug\u001b[0m\u001b[1;33m(\u001b[0m\u001b[1;34m'Loaded hydraulics'\u001b[0m\u001b[1;33m)\u001b[0m\u001b[1;33m\u001b[0m\u001b[1;33m\u001b[0m\u001b[0m\n\u001b[0;32m    105\u001b[0m         \u001b[1;32melse\u001b[0m\u001b[1;33m:\u001b[0m\u001b[1;33m\u001b[0m\u001b[1;33m\u001b[0m\u001b[0m\n\u001b[1;32m--> 106\u001b[1;33m             \u001b[0menData\u001b[0m\u001b[1;33m.\u001b[0m\u001b[0mENsolveH\u001b[0m\u001b[1;33m(\u001b[0m\u001b[1;33m)\u001b[0m\u001b[1;33m\u001b[0m\u001b[1;33m\u001b[0m\u001b[0m\n\u001b[0m\u001b[0;32m    107\u001b[0m             \u001b[0mlogger\u001b[0m\u001b[1;33m.\u001b[0m\u001b[0mdebug\u001b[0m\u001b[1;33m(\u001b[0m\u001b[1;34m'Solved hydraulics'\u001b[0m\u001b[1;33m)\u001b[0m\u001b[1;33m\u001b[0m\u001b[1;33m\u001b[0m\u001b[0m\n\u001b[0;32m    108\u001b[0m         \u001b[1;32mif\u001b[0m \u001b[0msave_hyd\u001b[0m\u001b[1;33m:\u001b[0m\u001b[1;33m\u001b[0m\u001b[1;33m\u001b[0m\u001b[0m\n",
      "\u001b[1;32mC:\\ProgramData\\Anaconda3\\lib\\site-packages\\wntr\\epanet\\toolkit.py\u001b[0m in \u001b[0;36mENsolveH\u001b[1;34m(self)\u001b[0m\n\u001b[0;32m    218\u001b[0m         \u001b[1;34m\"\"\"Solves for network hydraulics in all time periods\"\"\"\u001b[0m\u001b[1;33m\u001b[0m\u001b[1;33m\u001b[0m\u001b[0m\n\u001b[0;32m    219\u001b[0m         \u001b[0mself\u001b[0m\u001b[1;33m.\u001b[0m\u001b[0merrcode\u001b[0m \u001b[1;33m=\u001b[0m \u001b[0mself\u001b[0m\u001b[1;33m.\u001b[0m\u001b[0mENlib\u001b[0m\u001b[1;33m.\u001b[0m\u001b[0mENsolveH\u001b[0m\u001b[1;33m(\u001b[0m\u001b[1;33m)\u001b[0m\u001b[1;33m\u001b[0m\u001b[1;33m\u001b[0m\u001b[0m\n\u001b[1;32m--> 220\u001b[1;33m         \u001b[0mself\u001b[0m\u001b[1;33m.\u001b[0m\u001b[0m_error\u001b[0m\u001b[1;33m(\u001b[0m\u001b[1;33m)\u001b[0m\u001b[1;33m\u001b[0m\u001b[1;33m\u001b[0m\u001b[0m\n\u001b[0m\u001b[0;32m    221\u001b[0m         \u001b[1;32mreturn\u001b[0m\u001b[1;33m\u001b[0m\u001b[1;33m\u001b[0m\u001b[0m\n\u001b[0;32m    222\u001b[0m \u001b[1;33m\u001b[0m\u001b[0m\n",
      "\u001b[1;32mC:\\ProgramData\\Anaconda3\\lib\\site-packages\\wntr\\epanet\\toolkit.py\u001b[0m in \u001b[0;36m_error\u001b[1;34m(self)\u001b[0m\n\u001b[0;32m    171\u001b[0m             \u001b[0mself\u001b[0m\u001b[1;33m.\u001b[0m\u001b[0mErrflag\u001b[0m \u001b[1;33m=\u001b[0m \u001b[1;32mTrue\u001b[0m\u001b[1;33m\u001b[0m\u001b[1;33m\u001b[0m\u001b[0m\n\u001b[0;32m    172\u001b[0m             \u001b[0mself\u001b[0m\u001b[1;33m.\u001b[0m\u001b[0merrcodelist\u001b[0m\u001b[1;33m.\u001b[0m\u001b[0mappend\u001b[0m\u001b[1;33m(\u001b[0m\u001b[0mself\u001b[0m\u001b[1;33m.\u001b[0m\u001b[0merrcode\u001b[0m\u001b[1;33m)\u001b[0m\u001b[1;33m\u001b[0m\u001b[1;33m\u001b[0m\u001b[0m\n\u001b[1;32m--> 173\u001b[1;33m             \u001b[1;32mraise\u001b[0m \u001b[0mEpanetException\u001b[0m\u001b[1;33m(\u001b[0m\u001b[1;34m'EPANET Error {}'\u001b[0m\u001b[1;33m.\u001b[0m\u001b[0mformat\u001b[0m\u001b[1;33m(\u001b[0m\u001b[0mself\u001b[0m\u001b[1;33m.\u001b[0m\u001b[0merrcode\u001b[0m\u001b[1;33m)\u001b[0m\u001b[1;33m)\u001b[0m\u001b[1;33m\u001b[0m\u001b[1;33m\u001b[0m\u001b[0m\n\u001b[0m\u001b[0;32m    174\u001b[0m         \u001b[1;32melse\u001b[0m\u001b[1;33m:\u001b[0m\u001b[1;33m\u001b[0m\u001b[1;33m\u001b[0m\u001b[0m\n\u001b[0;32m    175\u001b[0m             \u001b[0mself\u001b[0m\u001b[1;33m.\u001b[0m\u001b[0mWarnflag\u001b[0m \u001b[1;33m=\u001b[0m \u001b[1;32mTrue\u001b[0m\u001b[1;33m\u001b[0m\u001b[1;33m\u001b[0m\u001b[0m\n",
      "\u001b[1;31mEpanetException\u001b[0m: EPANET Error 223"
     ]
    }
   ],
   "source": [
    "print(\"Starting simulation.....\")\n",
    "now = time.time()\n",
    "\n",
    "print(\"Generating leaks.....\")\n",
    "leakage_arr = [0.003]\n",
    "dict_leaks2, dict_diff2 = epanet_util_instance_2.run_leakage_scenario(leaks_arr=leakage_arr, generate_diff_dict=True, \n",
    "                                                                      retrieve_specific_nodes_arr=sensors)\n",
    "\n",
    "with open(\"1-leaks-dict-selected.json\", 'w') as fp:\n",
    "    json.dump(dict_leaks2, fp, indent=4) # \n",
    "print(\"To calculate it took: {}s\".format(time.time() - now))\n",
    "\n",
    "later = time.time()\n",
    "print(\"Total duration: {}s\".format(later - now))"
   ]
  },
  {
   "cell_type": "code",
   "execution_count": null,
   "metadata": {},
   "outputs": [],
   "source": [
    "# TODO calibrate data to pressures\n",
    "print(\"Starting simulation.....\")\n",
    "now = time.time()\n",
    "epanet_util_instance_1 = EPANETUtils(file, \"PDD\")\n",
    "\n",
    "print(\"Generating leaks.....\")\n",
    "dict_leaks1, dict_diff1 = epanet_util_instance_1.run_leakage_scenario(leaks_arr=[0.006, 0.012], generate_diff_dict=True)\n",
    "\n",
    "with open(\"1-leaks-dict-all.json\", 'w') as fp:\n",
    "    json.dump(dict_leaks1, fp, indent=4)\n",
    "print(\"To calculate it took: {}s\".format(time.time() - now))\n",
    "\n",
    "later = time.time()\n",
    "print(\"Total duration: {}s\".format(later - now))"
   ]
  },
  {
   "cell_type": "code",
   "execution_count": null,
   "metadata": {},
   "outputs": [],
   "source": [
    "\"\"\"# Files are 130MB smaller if there is no indent\n",
    "with open(\"1-leaks-dict.json\", 'w') as fp:\n",
    "    json.dump(dict_leaks, fp, indent=4)\n",
    "\n",
    "print(\"Leaks to file it took: {}s\".format(time.time() - now))\n",
    "\n",
    "with open(\"1-diff-dict.json\", 'w') as fp:\n",
    "    json.dump(dict_diff, fp, indent=4)\"\"\";\n",
    "pd.DataFrame(dict_leaks1)"
   ]
  },
  {
   "cell_type": "code",
   "execution_count": null,
   "metadata": {},
   "outputs": [],
   "source": []
  },
  {
   "cell_type": "code",
   "execution_count": null,
   "metadata": {},
   "outputs": [],
   "source": []
  },
  {
   "cell_type": "code",
   "execution_count": null,
   "metadata": {},
   "outputs": [],
   "source": []
  }
 ],
 "metadata": {
  "kernelspec": {
   "display_name": "Python 3",
   "language": "python",
   "name": "python3"
  },
  "language_info": {
   "codemirror_mode": {
    "name": "ipython",
    "version": 3
   },
   "file_extension": ".py",
   "mimetype": "text/x-python",
   "name": "python",
   "nbconvert_exporter": "python",
   "pygments_lexer": "ipython3",
   "version": "3.8.3"
  }
 },
 "nbformat": 4,
 "nbformat_minor": 4
}
